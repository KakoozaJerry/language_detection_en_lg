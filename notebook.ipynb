{
  "cells": [
    {
      "cell_type": "code",
      "execution_count": 2,
      "metadata": {
        "execution": {
          "iopub.execute_input": "2021-02-10T17:52:00.110673Z",
          "iopub.status.busy": "2021-02-10T17:52:00.109940Z",
          "iopub.status.idle": "2021-02-10T17:52:00.953770Z",
          "shell.execute_reply": "2021-02-10T17:52:00.953045Z"
        },
        "id": "LzpQHijyjle4",
        "papermill": {
          "duration": 0.862649,
          "end_time": "2021-02-10T17:52:00.953914",
          "exception": false,
          "start_time": "2021-02-10T17:52:00.091265",
          "status": "completed"
        },
        "tags": []
      },
      "outputs": [],
      "source": [
        "import numpy as np # linear algebra\n",
        "import pandas as pd # data processing, CSV file I/O (e.g. pd.read_csv)\n",
        "import re\n",
        "import seaborn as sns\n",
        "import matplotlib.pyplot as plt\n",
        "import pickle\n",
        "\n",
        "import warnings\n",
        "warnings.simplefilter(\"ignore\")"
      ]
    },
    {
      "cell_type": "code",
      "execution_count": 3,
      "metadata": {
        "execution": {
          "iopub.execute_input": "2021-02-10T17:52:00.984601Z",
          "iopub.status.busy": "2021-02-10T17:52:00.983913Z",
          "iopub.status.idle": "2021-02-10T17:52:01.082792Z",
          "shell.execute_reply": "2021-02-10T17:52:01.082083Z"
        },
        "id": "U80SZAmsjle5",
        "papermill": {
          "duration": 0.115309,
          "end_time": "2021-02-10T17:52:01.082935",
          "exception": false,
          "start_time": "2021-02-10T17:52:00.967626",
          "status": "completed"
        },
        "tags": []
      },
      "outputs": [],
      "source": [
        "# Loading the dataset\n",
        "data_one = pd.read_csv(\"/content/data/small_vocab_en-lg.csv\")"
      ]
    },
    {
      "cell_type": "code",
      "execution_count": null,
      "metadata": {},
      "outputs": [],
      "source": [
        "shuffled_df = data_one.sample(frac=1)\n",
        "shuffled_df.to_csv(\"new_file_name.csv\", index=False)\n",
        "data = pd.read_csv(\"/content/new_file_name.csv\")"
      ]
    },
    {
      "cell_type": "code",
      "execution_count": 4,
      "metadata": {
        "colab": {
          "base_uri": "https://localhost:8080/",
          "height": 363
        },
        "execution": {
          "iopub.execute_input": "2021-02-10T17:52:01.123627Z",
          "iopub.status.busy": "2021-02-10T17:52:01.122981Z",
          "iopub.status.idle": "2021-02-10T17:52:01.143985Z",
          "shell.execute_reply": "2021-02-10T17:52:01.143376Z"
        },
        "id": "nJQ78NE_jle6",
        "outputId": "982fa50e-1ab7-4cec-84e2-55e2a31d962d",
        "papermill": {
          "duration": 0.047317,
          "end_time": "2021-02-10T17:52:01.144144",
          "exception": false,
          "start_time": "2021-02-10T17:52:01.096827",
          "status": "completed"
        },
        "tags": []
      },
      "outputs": [
        {
          "data": {
            "text/html": [
              "\n",
              "  <div id=\"df-12707d56-ad61-4a02-87ea-83b5cc2b6d4e\">\n",
              "    <div class=\"colab-df-container\">\n",
              "      <div>\n",
              "<style scoped>\n",
              "    .dataframe tbody tr th:only-of-type {\n",
              "        vertical-align: middle;\n",
              "    }\n",
              "\n",
              "    .dataframe tbody tr th {\n",
              "        vertical-align: top;\n",
              "    }\n",
              "\n",
              "    .dataframe thead th {\n",
              "        text-align: right;\n",
              "    }\n",
              "</style>\n",
              "<table border=\"1\" class=\"dataframe\">\n",
              "  <thead>\n",
              "    <tr style=\"text-align: right;\">\n",
              "      <th></th>\n",
              "      <th>Text</th>\n",
              "      <th>Language</th>\n",
              "    </tr>\n",
              "  </thead>\n",
              "  <tbody>\n",
              "    <tr>\n",
              "      <th>0</th>\n",
              "      <td>Abanoonyiboobubudamu bonna baasabiddwa beewand...</td>\n",
              "      <td>Luganda</td>\n",
              "    </tr>\n",
              "    <tr>\n",
              "      <th>1</th>\n",
              "      <td>Baayise olukungaana lw'abanoonyiboobubudamu eg...</td>\n",
              "      <td>Luganda</td>\n",
              "    </tr>\n",
              "    <tr>\n",
              "      <th>2</th>\n",
              "      <td>Abanoonyiboobubudamu b'abadde n'obutakkaanya w...</td>\n",
              "      <td>Luganda</td>\n",
              "    </tr>\n",
              "    <tr>\n",
              "      <th>3</th>\n",
              "      <td>Twakubirizibwa okwaniriza abanoonyiboobubudamu...</td>\n",
              "      <td>Luganda</td>\n",
              "    </tr>\n",
              "    <tr>\n",
              "      <th>4</th>\n",
              "      <td>Bwe tukolera awamu enkulaakulana enyingi efuni...</td>\n",
              "      <td>Luganda</td>\n",
              "    </tr>\n",
              "    <tr>\n",
              "      <th>5</th>\n",
              "      <td>Disitulikiti eziriraanye ensalo si ntebenkevu.</td>\n",
              "      <td>Luganda</td>\n",
              "    </tr>\n",
              "    <tr>\n",
              "      <th>6</th>\n",
              "      <td>Abanoonyiboobubudamu batandise okulima okusobo...</td>\n",
              "      <td>Luganda</td>\n",
              "    </tr>\n",
              "    <tr>\n",
              "      <th>7</th>\n",
              "      <td>Kimenya mateeka okubeera n'emmundu.</td>\n",
              "      <td>Luganda</td>\n",
              "    </tr>\n",
              "    <tr>\n",
              "      <th>8</th>\n",
              "      <td>Awa nnyo bazadde be kitiibwa.</td>\n",
              "      <td>Luganda</td>\n",
              "    </tr>\n",
              "    <tr>\n",
              "      <th>9</th>\n",
              "      <td>Omusajja anywa nnyo omwenge.</td>\n",
              "      <td>Luganda</td>\n",
              "    </tr>\n",
              "  </tbody>\n",
              "</table>\n",
              "</div>\n",
              "      <button class=\"colab-df-convert\" onclick=\"convertToInteractive('df-12707d56-ad61-4a02-87ea-83b5cc2b6d4e')\"\n",
              "              title=\"Convert this dataframe to an interactive table.\"\n",
              "              style=\"display:none;\">\n",
              "        \n",
              "  <svg xmlns=\"http://www.w3.org/2000/svg\" height=\"24px\"viewBox=\"0 0 24 24\"\n",
              "       width=\"24px\">\n",
              "    <path d=\"M0 0h24v24H0V0z\" fill=\"none\"/>\n",
              "    <path d=\"M18.56 5.44l.94 2.06.94-2.06 2.06-.94-2.06-.94-.94-2.06-.94 2.06-2.06.94zm-11 1L8.5 8.5l.94-2.06 2.06-.94-2.06-.94L8.5 2.5l-.94 2.06-2.06.94zm10 10l.94 2.06.94-2.06 2.06-.94-2.06-.94-.94-2.06-.94 2.06-2.06.94z\"/><path d=\"M17.41 7.96l-1.37-1.37c-.4-.4-.92-.59-1.43-.59-.52 0-1.04.2-1.43.59L10.3 9.45l-7.72 7.72c-.78.78-.78 2.05 0 2.83L4 21.41c.39.39.9.59 1.41.59.51 0 1.02-.2 1.41-.59l7.78-7.78 2.81-2.81c.8-.78.8-2.07 0-2.86zM5.41 20L4 18.59l7.72-7.72 1.47 1.35L5.41 20z\"/>\n",
              "  </svg>\n",
              "      </button>\n",
              "      \n",
              "  <style>\n",
              "    .colab-df-container {\n",
              "      display:flex;\n",
              "      flex-wrap:wrap;\n",
              "      gap: 12px;\n",
              "    }\n",
              "\n",
              "    .colab-df-convert {\n",
              "      background-color: #E8F0FE;\n",
              "      border: none;\n",
              "      border-radius: 50%;\n",
              "      cursor: pointer;\n",
              "      display: none;\n",
              "      fill: #1967D2;\n",
              "      height: 32px;\n",
              "      padding: 0 0 0 0;\n",
              "      width: 32px;\n",
              "    }\n",
              "\n",
              "    .colab-df-convert:hover {\n",
              "      background-color: #E2EBFA;\n",
              "      box-shadow: 0px 1px 2px rgba(60, 64, 67, 0.3), 0px 1px 3px 1px rgba(60, 64, 67, 0.15);\n",
              "      fill: #174EA6;\n",
              "    }\n",
              "\n",
              "    [theme=dark] .colab-df-convert {\n",
              "      background-color: #3B4455;\n",
              "      fill: #D2E3FC;\n",
              "    }\n",
              "\n",
              "    [theme=dark] .colab-df-convert:hover {\n",
              "      background-color: #434B5C;\n",
              "      box-shadow: 0px 1px 3px 1px rgba(0, 0, 0, 0.15);\n",
              "      filter: drop-shadow(0px 1px 2px rgba(0, 0, 0, 0.3));\n",
              "      fill: #FFFFFF;\n",
              "    }\n",
              "  </style>\n",
              "\n",
              "      <script>\n",
              "        const buttonEl =\n",
              "          document.querySelector('#df-12707d56-ad61-4a02-87ea-83b5cc2b6d4e button.colab-df-convert');\n",
              "        buttonEl.style.display =\n",
              "          google.colab.kernel.accessAllowed ? 'block' : 'none';\n",
              "\n",
              "        async function convertToInteractive(key) {\n",
              "          const element = document.querySelector('#df-12707d56-ad61-4a02-87ea-83b5cc2b6d4e');\n",
              "          const dataTable =\n",
              "            await google.colab.kernel.invokeFunction('convertToInteractive',\n",
              "                                                     [key], {});\n",
              "          if (!dataTable) return;\n",
              "\n",
              "          const docLinkHtml = 'Like what you see? Visit the ' +\n",
              "            '<a target=\"_blank\" href=https://colab.research.google.com/notebooks/data_table.ipynb>data table notebook</a>'\n",
              "            + ' to learn more about interactive tables.';\n",
              "          element.innerHTML = '';\n",
              "          dataTable['output_type'] = 'display_data';\n",
              "          await google.colab.output.renderOutput(dataTable, element);\n",
              "          const docLink = document.createElement('div');\n",
              "          docLink.innerHTML = docLinkHtml;\n",
              "          element.appendChild(docLink);\n",
              "        }\n",
              "      </script>\n",
              "    </div>\n",
              "  </div>\n",
              "  "
            ],
            "text/plain": [
              "                                                Text Language\n",
              "0  Abanoonyiboobubudamu bonna baasabiddwa beewand...  Luganda\n",
              "1  Baayise olukungaana lw'abanoonyiboobubudamu eg...  Luganda\n",
              "2  Abanoonyiboobubudamu b'abadde n'obutakkaanya w...  Luganda\n",
              "3  Twakubirizibwa okwaniriza abanoonyiboobubudamu...  Luganda\n",
              "4  Bwe tukolera awamu enkulaakulana enyingi efuni...  Luganda\n",
              "5     Disitulikiti eziriraanye ensalo si ntebenkevu.  Luganda\n",
              "6  Abanoonyiboobubudamu batandise okulima okusobo...  Luganda\n",
              "7                Kimenya mateeka okubeera n'emmundu.  Luganda\n",
              "8                      Awa nnyo bazadde be kitiibwa.  Luganda\n",
              "9                       Omusajja anywa nnyo omwenge.  Luganda"
            ]
          },
          "execution_count": 4,
          "metadata": {},
          "output_type": "execute_result"
        }
      ],
      "source": [
        "data.head(10)"
      ]
    },
    {
      "cell_type": "code",
      "execution_count": 5,
      "metadata": {
        "colab": {
          "base_uri": "https://localhost:8080/"
        },
        "execution": {
          "iopub.execute_input": "2021-02-10T17:52:01.184973Z",
          "iopub.status.busy": "2021-02-10T17:52:01.184087Z",
          "iopub.status.idle": "2021-02-10T17:52:01.188257Z",
          "shell.execute_reply": "2021-02-10T17:52:01.187707Z"
        },
        "id": "b00t2koqjle7",
        "outputId": "72adfa5d-1e93-4a71-e61d-8531cbd9503d",
        "papermill": {
          "duration": 0.029968,
          "end_time": "2021-02-10T17:52:01.188395",
          "exception": false,
          "start_time": "2021-02-10T17:52:01.158427",
          "status": "completed"
        },
        "tags": []
      },
      "outputs": [
        {
          "data": {
            "text/plain": [
              "English    3377\n",
              "Luganda    3049\n",
              "Name: Language, dtype: int64"
            ]
          },
          "execution_count": 5,
          "metadata": {},
          "output_type": "execute_result"
        }
      ],
      "source": [
        "# value count for each language\n",
        "data[\"Language\"].value_counts()"
      ]
    },
    {
      "cell_type": "code",
      "execution_count": 6,
      "metadata": {
        "execution": {
          "iopub.execute_input": "2021-02-10T17:52:01.221335Z",
          "iopub.status.busy": "2021-02-10T17:52:01.220696Z",
          "iopub.status.idle": "2021-02-10T17:52:01.224491Z",
          "shell.execute_reply": "2021-02-10T17:52:01.225053Z"
        },
        "id": "dSBlk8rEjle8",
        "papermill": {
          "duration": 0.021949,
          "end_time": "2021-02-10T17:52:01.225259",
          "exception": false,
          "start_time": "2021-02-10T17:52:01.203310",
          "status": "completed"
        },
        "tags": []
      },
      "outputs": [],
      "source": [
        "# separating the independent and dependant features\n",
        "X = data[\"Text\"]\n",
        "y = data[\"Language\"]"
      ]
    },
    {
      "cell_type": "code",
      "execution_count": 7,
      "metadata": {
        "execution": {
          "iopub.execute_input": "2021-02-10T17:52:01.258240Z",
          "iopub.status.busy": "2021-02-10T17:52:01.257609Z",
          "iopub.status.idle": "2021-02-10T17:52:01.410574Z",
          "shell.execute_reply": "2021-02-10T17:52:01.409018Z"
        },
        "id": "nSmbbPcljle8",
        "papermill": {
          "duration": 0.170581,
          "end_time": "2021-02-10T17:52:01.410730",
          "exception": false,
          "start_time": "2021-02-10T17:52:01.240149",
          "status": "completed"
        },
        "tags": []
      },
      "outputs": [],
      "source": [
        "# converting categorical variables to numerical\n",
        "\n",
        "from sklearn.preprocessing import LabelEncoder\n",
        "le = LabelEncoder()\n",
        "y = le.fit_transform(y)"
      ]
    },
    {
      "cell_type": "markdown",
      "metadata": {
        "id": "18Pr7npIjle9",
        "papermill": {
          "duration": 0.014833,
          "end_time": "2021-02-10T17:52:01.440860",
          "exception": false,
          "start_time": "2021-02-10T17:52:01.426027",
          "status": "completed"
        },
        "tags": []
      },
      "source": [
        "# Text Preprocessing"
      ]
    },
    {
      "cell_type": "code",
      "execution_count": 8,
      "metadata": {
        "colab": {
          "base_uri": "https://localhost:8080/"
        },
        "id": "KmL_cLsjlvQF",
        "outputId": "c92bdcb1-efb9-4221-bf7e-f4e2e60edbb9"
      },
      "outputs": [
        {
          "data": {
            "text/plain": [
              "Text        0\n",
              "Language    0\n",
              "dtype: int64"
            ]
          },
          "execution_count": 8,
          "metadata": {},
          "output_type": "execute_result"
        }
      ],
      "source": [
        "data.isnull().sum()"
      ]
    },
    {
      "cell_type": "code",
      "execution_count": 9,
      "metadata": {
        "execution": {
          "iopub.execute_input": "2021-02-10T17:52:01.522793Z",
          "iopub.status.busy": "2021-02-10T17:52:01.512517Z",
          "iopub.status.idle": "2021-02-10T17:52:01.564276Z",
          "shell.execute_reply": "2021-02-10T17:52:01.563732Z"
        },
        "id": "B7dNgGSnjlfA",
        "papermill": {
          "duration": 0.107972,
          "end_time": "2021-02-10T17:52:01.564412",
          "exception": false,
          "start_time": "2021-02-10T17:52:01.456440",
          "status": "completed"
        },
        "tags": []
      },
      "outputs": [],
      "source": [
        "data_list = []\n",
        "for text in X:\n",
        "    text = re.sub(r'[!@#$(),\\n\"%^*?\\:;~`0-9]', ' ', text)\n",
        "    text = re.sub(r'[[]]', ' ', text)\n",
        "    text = text.lower()\n",
        "    data_list.append(text)"
      ]
    },
    {
      "cell_type": "markdown",
      "metadata": {
        "id": "7oQTbYlxjlfA",
        "papermill": {
          "duration": 0.015254,
          "end_time": "2021-02-10T17:52:01.595015",
          "exception": false,
          "start_time": "2021-02-10T17:52:01.579761",
          "status": "completed"
        },
        "tags": []
      },
      "source": [
        "# Bag of Words"
      ]
    },
    {
      "cell_type": "code",
      "execution_count": 10,
      "metadata": {
        "execution": {
          "iopub.execute_input": "2021-02-10T17:52:01.630415Z",
          "iopub.status.busy": "2021-02-10T17:52:01.629810Z",
          "iopub.status.idle": "2021-02-10T17:52:02.445708Z",
          "shell.execute_reply": "2021-02-10T17:52:02.445157Z"
        },
        "id": "z8u2xK5EjlfB",
        "papermill": {
          "duration": 0.834361,
          "end_time": "2021-02-10T17:52:02.445855",
          "exception": false,
          "start_time": "2021-02-10T17:52:01.611494",
          "status": "completed"
        },
        "tags": []
      },
      "outputs": [],
      "source": [
        "# creating bag of words using countvectorizer\n",
        "\n",
        "from sklearn.feature_extraction.text import CountVectorizer\n",
        "cv = CountVectorizer()\n",
        "X = cv.fit_transform(data_list).toarray()"
      ]
    },
    {
      "cell_type": "code",
      "execution_count": 11,
      "metadata": {
        "colab": {
          "base_uri": "https://localhost:8080/"
        },
        "execution": {
          "iopub.execute_input": "2021-02-10T17:52:02.481951Z",
          "iopub.status.busy": "2021-02-10T17:52:02.481032Z",
          "iopub.status.idle": "2021-02-10T17:52:02.485484Z",
          "shell.execute_reply": "2021-02-10T17:52:02.484838Z"
        },
        "id": "ufU8gbobjlfD",
        "outputId": "e06ee53d-d824-4fd7-e48c-7eca093a4c12",
        "papermill": {
          "duration": 0.024393,
          "end_time": "2021-02-10T17:52:02.485626",
          "exception": false,
          "start_time": "2021-02-10T17:52:02.461233",
          "status": "completed"
        },
        "tags": []
      },
      "outputs": [
        {
          "data": {
            "text/plain": [
              "(6426, 9241)"
            ]
          },
          "execution_count": 11,
          "metadata": {},
          "output_type": "execute_result"
        }
      ],
      "source": [
        "X.shape"
      ]
    },
    {
      "cell_type": "markdown",
      "metadata": {
        "id": "MTeioxznjlfD",
        "papermill": {
          "duration": 0.015694,
          "end_time": "2021-02-10T17:52:02.517146",
          "exception": false,
          "start_time": "2021-02-10T17:52:02.501452",
          "status": "completed"
        },
        "tags": []
      },
      "source": [
        "# Train Test Split"
      ]
    },
    {
      "cell_type": "code",
      "execution_count": 12,
      "metadata": {
        "execution": {
          "iopub.execute_input": "2021-02-10T17:52:02.553947Z",
          "iopub.status.busy": "2021-02-10T17:52:02.553282Z",
          "iopub.status.idle": "2021-02-10T17:52:04.672035Z",
          "shell.execute_reply": "2021-02-10T17:52:04.672576Z"
        },
        "id": "76Y9dsNMjlfE",
        "papermill": {
          "duration": 2.139796,
          "end_time": "2021-02-10T17:52:04.672760",
          "exception": false,
          "start_time": "2021-02-10T17:52:02.532964",
          "status": "completed"
        },
        "tags": []
      },
      "outputs": [],
      "source": [
        "from sklearn.model_selection import train_test_split\n",
        "\n",
        "x_train, x_test, y_train, y_test = train_test_split(X, y, test_size = 0.20)"
      ]
    },
    {
      "cell_type": "markdown",
      "metadata": {
        "id": "8vMvkNttjlfE",
        "papermill": {
          "duration": 0.015847,
          "end_time": "2021-02-10T17:52:04.704861",
          "exception": false,
          "start_time": "2021-02-10T17:52:04.689014",
          "status": "completed"
        },
        "tags": []
      },
      "source": [
        "# Model creation and Prediction\n"
      ]
    },
    {
      "cell_type": "code",
      "execution_count": 13,
      "metadata": {
        "colab": {
          "base_uri": "https://localhost:8080/"
        },
        "execution": {
          "iopub.execute_input": "2021-02-10T17:52:04.747118Z",
          "iopub.status.busy": "2021-02-10T17:52:04.746445Z",
          "iopub.status.idle": "2021-02-10T17:52:34.949612Z",
          "shell.execute_reply": "2021-02-10T17:52:34.950127Z"
        },
        "id": "ftb5rIDMjlfE",
        "outputId": "e621f1e7-09b0-41f9-bf7b-2db921b437e9",
        "papermill": {
          "duration": 30.229279,
          "end_time": "2021-02-10T17:52:34.950303",
          "exception": false,
          "start_time": "2021-02-10T17:52:04.721024",
          "status": "completed"
        },
        "tags": []
      },
      "outputs": [
        {
          "data": {
            "text/plain": [
              "MultinomialNB()"
            ]
          },
          "execution_count": 13,
          "metadata": {},
          "output_type": "execute_result"
        }
      ],
      "source": [
        "from sklearn.naive_bayes import MultinomialNB\n",
        "\n",
        "model = MultinomialNB()\n",
        "model.fit(x_train, y_train)"
      ]
    },
    {
      "cell_type": "code",
      "execution_count": 14,
      "metadata": {
        "execution": {
          "iopub.execute_input": "2021-02-10T17:52:34.988161Z",
          "iopub.status.busy": "2021-02-10T17:52:34.987520Z",
          "iopub.status.idle": "2021-02-10T17:52:37.404847Z",
          "shell.execute_reply": "2021-02-10T17:52:37.404230Z"
        },
        "id": "DJyE0gvTjlfF",
        "papermill": {
          "duration": 2.437964,
          "end_time": "2021-02-10T17:52:37.404984",
          "exception": false,
          "start_time": "2021-02-10T17:52:34.967020",
          "status": "completed"
        },
        "tags": []
      },
      "outputs": [],
      "source": [
        "# prediction \n",
        "y_pred = model.predict(x_test)"
      ]
    },
    {
      "cell_type": "markdown",
      "metadata": {
        "id": "yC56sELejlfG",
        "papermill": {
          "duration": 0.016432,
          "end_time": "2021-02-10T17:52:37.438350",
          "exception": false,
          "start_time": "2021-02-10T17:52:37.421918",
          "status": "completed"
        },
        "tags": []
      },
      "source": [
        "# prediction \n"
      ]
    },
    {
      "cell_type": "code",
      "execution_count": 15,
      "metadata": {
        "execution": {
          "iopub.execute_input": "2021-02-10T17:52:37.476748Z",
          "iopub.status.busy": "2021-02-10T17:52:37.476015Z",
          "iopub.status.idle": "2021-02-10T17:52:37.495623Z",
          "shell.execute_reply": "2021-02-10T17:52:37.495035Z"
        },
        "id": "i0rNEI5NjlfH",
        "papermill": {
          "duration": 0.041095,
          "end_time": "2021-02-10T17:52:37.495777",
          "exception": false,
          "start_time": "2021-02-10T17:52:37.454682",
          "status": "completed"
        },
        "tags": []
      },
      "outputs": [],
      "source": [
        "from sklearn.metrics import accuracy_score, confusion_matrix, classification_report\n",
        "\n",
        "ac = accuracy_score(y_test, y_pred)\n",
        "cm = confusion_matrix(y_test, y_pred)\n",
        "cr = classification_report(y_test, y_pred)"
      ]
    },
    {
      "cell_type": "code",
      "execution_count": 16,
      "metadata": {
        "colab": {
          "base_uri": "https://localhost:8080/"
        },
        "execution": {
          "iopub.execute_input": "2021-02-10T17:52:37.533855Z",
          "iopub.status.busy": "2021-02-10T17:52:37.533288Z",
          "iopub.status.idle": "2021-02-10T17:52:37.536858Z",
          "shell.execute_reply": "2021-02-10T17:52:37.537389Z"
        },
        "id": "iiJZGxGKjlfH",
        "outputId": "77e38cd4-08ca-456a-8333-8e1824e1214e",
        "papermill": {
          "duration": 0.025062,
          "end_time": "2021-02-10T17:52:37.537544",
          "exception": false,
          "start_time": "2021-02-10T17:52:37.512482",
          "status": "completed"
        },
        "tags": []
      },
      "outputs": [
        {
          "name": "stdout",
          "output_type": "stream",
          "text": [
            "Accuracy is : 1.0\n"
          ]
        }
      ],
      "source": [
        "print(\"Accuracy is :\",ac)"
      ]
    },
    {
      "cell_type": "code",
      "execution_count": 17,
      "metadata": {
        "colab": {
          "base_uri": "https://localhost:8080/"
        },
        "execution": {
          "iopub.execute_input": "2021-02-10T17:52:37.575830Z",
          "iopub.status.busy": "2021-02-10T17:52:37.575222Z",
          "iopub.status.idle": "2021-02-10T17:52:37.579168Z",
          "shell.execute_reply": "2021-02-10T17:52:37.579890Z"
        },
        "id": "938PMwRLjlfH",
        "outputId": "d82db690-29f3-492a-f23c-699661c4ba62",
        "papermill": {
          "duration": 0.025512,
          "end_time": "2021-02-10T17:52:37.580114",
          "exception": false,
          "start_time": "2021-02-10T17:52:37.554602",
          "status": "completed"
        },
        "tags": []
      },
      "outputs": [
        {
          "name": "stdout",
          "output_type": "stream",
          "text": [
            "              precision    recall  f1-score   support\n",
            "\n",
            "           0       1.00      1.00      1.00       661\n",
            "           1       1.00      1.00      1.00       625\n",
            "\n",
            "    accuracy                           1.00      1286\n",
            "   macro avg       1.00      1.00      1.00      1286\n",
            "weighted avg       1.00      1.00      1.00      1286\n",
            "\n"
          ]
        }
      ],
      "source": [
        "# classification report\n",
        "print(cr)"
      ]
    },
    {
      "cell_type": "code",
      "execution_count": 18,
      "metadata": {
        "colab": {
          "base_uri": "https://localhost:8080/",
          "height": 592
        },
        "execution": {
          "iopub.execute_input": "2021-02-10T17:52:37.640063Z",
          "iopub.status.busy": "2021-02-10T17:52:37.639427Z",
          "iopub.status.idle": "2021-02-10T17:52:39.369739Z",
          "shell.execute_reply": "2021-02-10T17:52:39.369077Z"
        },
        "id": "9beWtEn7jlfI",
        "outputId": "6c3196fa-5281-406f-8381-6943a30ee14f",
        "papermill": {
          "duration": 1.771423,
          "end_time": "2021-02-10T17:52:39.369879",
          "exception": false,
          "start_time": "2021-02-10T17:52:37.598456",
          "status": "completed"
        },
        "tags": []
      },
      "outputs": [
        {
          "data": {
            "image/png": "[encoded data removed]",
            "text/plain": [
              "<Figure size 1080x720 with 2 Axes>"
            ]
          },
          "metadata": {
            "needs_background": "light"
          },
          "output_type": "display_data"
        }
      ],
      "source": [
        "# visualising the confusion matrix\n",
        "plt.figure(figsize=(15,10))\n",
        "sns.heatmap(cm, annot = True)\n",
        "plt.show()"
      ]
    },
    {
      "cell_type": "code",
      "execution_count": 19,
      "metadata": {
        "id": "BeazbTlKs1hN"
      },
      "outputs": [],
      "source": [
        "def predict(text):\n",
        "     x = cv.transform([text]).toarray() # converting text to bag of words model (Vector)\n",
        "     lang = model.predict(x) # predicting the language\n",
        "     lang = le.inverse_transform(lang) # finding the language corresponding the the predicted value\n",
        "     print(\"The langauge is in\",lang[0]) # printing the language"
      ]
    },
    {
      "cell_type": "code",
      "execution_count": 22,
      "metadata": {
        "colab": {
          "base_uri": "https://localhost:8080/"
        },
        "id": "QP15au6ejlfI",
        "outputId": "88d15338-baf6-463a-b808-3b8b32bff256",
        "papermill": {
          "duration": 0.018692,
          "end_time": "2021-02-10T17:52:39.407689",
          "exception": false,
          "start_time": "2021-02-10T17:52:39.388997",
          "status": "completed"
        },
        "tags": []
      },
      "outputs": [
        {
          "name": "stdout",
          "output_type": "stream",
          "text": [
            "The langauge is in Luganda\n"
          ]
        }
      ],
      "source": [
        "predict('Obumenyi bw’amateeka bufuukidde Pulezidenti n’eggwanga ekizibu.')"
      ]
    },
    {
      "cell_type": "code",
      "execution_count": null,
      "metadata": {},
      "outputs": [],
      "source": [
        "import pickle\n",
        "\n",
        "#\n",
        "# Create your model here (same as above)\n",
        "#\n",
        "\n",
        "# Save to file in the current working directory\n",
        "pkl_filename = \"pickle_model.pkl\"\n",
        "with open(pkl_filename, 'wb') as file:\n",
        "    pickle.dump(model, file)\n",
        "\n",
        "# Load from file\n",
        "with open(pkl_filename, 'rb') as file:\n",
        "    pickle_model = pickle.load(file)"
      ]
    }
  ],
  "metadata": {
    "colab": {
      "name": "language-detection-using-nlp.ipynb",
      "provenance": []
    },
    "kernelspec": {
      "display_name": "Python 3",
      "language": "python",
      "name": "python3"
    },
    "language_info": {
      "codemirror_mode": {
        "name": "ipython",
        "version": 3
      },
      "file_extension": ".py",
      "mimetype": "text/x-python",
      "name": "python",
      "nbconvert_exporter": "python",
      "pygments_lexer": "ipython3",
      "version": "3.7.9"
    },
    "papermill": {
      "default_parameters": {},
      "duration": 45.67269,
      "end_time": "2021-02-10T17:52:40.137532",
      "environment_variables": {},
      "exception": null,
      "input_path": "__notebook__.ipynb",
      "output_path": "__notebook__.ipynb",
      "parameters": {},
      "start_time": "2021-02-10T17:51:54.464842",
      "version": "2.2.2"
    }
  },
  "nbformat": 4,
  "nbformat_minor": 0
}
